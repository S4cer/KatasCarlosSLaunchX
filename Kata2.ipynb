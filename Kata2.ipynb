{
 "cells": [
  {
   "cell_type": "markdown",
   "metadata": {},
   "source": [
    "## Creacion del entorno virtual\n",
    "\n",
    "![screnshot](./Screenshots/Screenshot1.png)"
   ]
  },
  {
   "cell_type": "markdown",
   "metadata": {},
   "source": [
    "## Activamos en eltorno virtual\n",
    "\n",
    "![screnshot](./Screenshots/Screenshot2.png)"
   ]
  },
  {
   "cell_type": "markdown",
   "metadata": {},
   "source": [
    "## instalacion de biblioteca\n",
    "\n",
    "![screnshot](./Screenshots/Screenshot3.png)\n",
    "\n",
    "![screnshot](./Screenshots/Screenshot4.png)"
   ]
  },
  {
   "cell_type": "markdown",
   "metadata": {},
   "source": [
    "## Desactivar entorno virtual\n",
    "\n",
    "![screnshot](./Screenshots/Screenshot5.png)"
   ]
  }
 ],
 "metadata": {
  "language_info": {
   "name": "python"
  },
  "orig_nbformat": 4
 },
 "nbformat": 4,
 "nbformat_minor": 2
}
